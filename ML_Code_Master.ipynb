{
  "nbformat": 4,
  "nbformat_minor": 0,
  "metadata": {
    "colab": {
      "name": "ML Code Master.ipynb",
      "version": "0.3.2",
      "provenance": [],
      "collapsed_sections": [],
      "include_colab_link": true
    },
    "kernelspec": {
      "name": "python3",
      "display_name": "Python 3"
    }
  },
  "cells": [
    {
      "cell_type": "markdown",
      "metadata": {
        "id": "view-in-github",
        "colab_type": "text"
      },
      "source": [
        "<a href=\"https://colab.research.google.com/github/Valdini/Machine-Learning-Curriculum/blob/master/ML_Code_Master.ipynb\" target=\"_parent\"><img src=\"https://colab.research.google.com/assets/colab-badge.svg\" alt=\"Open In Colab\"/></a>"
      ]
    },
    {
      "metadata": {
        "id": "lPN-ewUN5HCM",
        "colab_type": "code",
        "colab": {}
      },
      "cell_type": "code",
      "source": [
        "#ML Code Master\n",
        "\n",
        "#import dependencies\n",
        "!apt-get -q install -y graphviz\n",
        "!pip install -U -q PyDrive\n",
        "!pip install pydotplus\n",
        "!pip install -q pydot\n",
        "from keras.utils import plot_model\n",
        "from IPython.display import HTML, SVG\n",
        "import pandas as pd\n",
        "import io\n",
        "from google.colab import auth\n",
        "from google.colab import files\n",
        "from oauth2client.client import GoogleCredentials\n",
        "import pydot\n",
        "import pydotplus\n",
        "import numpy as np\n",
        "import matplotlib.pyplot as plt\n",
        "from sklearn import preprocessing, cross_validation\n",
        "from numpy import array\n",
        "from sklearn.model_selection import train_test_split\n",
        "from sklearn import linear_model\n",
        "from sklearn import datasets\n",
        "from sklearn import tree\n",
        "from IPython.display import Image\n",
        "from sklearn.externals.six import StringIO\n",
        "from pydotplus import graphviz, Graph\n",
        "import pydrive\n",
        "from pydrive.drive import GoogleDrive\n",
        "from pydrive.auth import GoogleAuth\n",
        "from oauth2client.client import GoogleCredentials\n",
        "print('basic dependencies imported')"
      ],
      "execution_count": 0,
      "outputs": []
    },
    {
      "metadata": {
        "id": "s6EkTjvHhMYR",
        "colab_type": "code",
        "colab": {}
      },
      "cell_type": "code",
      "source": [
        "#Importing Data from Google Drive\n",
        "auth.authenticate_user()\n",
        "gauth = GoogleAuth()\n",
        "gauth.credentials = GoogleCredentials.get_application_default()\n",
        "drive = GoogleDrive(gauth)\n",
        "downloaded = drive.CreateFile({'id':'18vqfoBJhG61i51E1wZNUgX_nYRRt32GH'}) #get this ID by copy pasting share link and removing rest of URL\n",
        "downloaded.GetContentFile('HDC_250k.csv') #name of a file\n",
        "features = pd.read_csv('HDC_250k.csv')\n",
        "features = features.drop(columns = ['residence'])\n",
        "print('data imported')"
      ],
      "execution_count": 0,
      "outputs": []
    },
    {
      "metadata": {
        "id": "52-WyTCShJL4",
        "colab_type": "code",
        "colab": {}
      },
      "cell_type": "code",
      "source": [
        "#labelencode data\n",
        "from sklearn.preprocessing import LabelEncoder\n",
        "le = LabelEncoder() \n",
        "bookingdate = features['bookingdate'] = le.fit_transform(features['bookingdate'])\n",
        "price = features['price'] = le.fit_transform(features['price'])\n",
        "bookingsource = features['bookingsource'] = le.fit_transform(features['bookingsource'])\n",
        "#residence = features['residence'] = le.fit_transform(features['residence'])\n",
        "durationindays = features['durationindays'] = le.fit_transform(features['durationindays'])\n",
        "paymenttype = features['paymenttype'] = le.fit_transform(features['paymenttype'])\n",
        "participants = features['participants'] = le.fit_transform(features['participants'])\n",
        "traveltype = features['traveltype'] = le.fit_transform(features['traveltype'])\n",
        "hotelcity = features['hotelcity'] = le.fit_transform(features['hotelcity'])\n",
        "hotelregion = features['hotelregion'] = le.fit_transform(features['hotelregion'])\n",
        "hotelcountry = features['hotelcountry'] = le.fit_transform(features['hotelcountry'])\n",
        "catering = features['catering'] = le.fit_transform(features['catering'])\n",
        "departureairport = features['departureairport'] = le.fit_transform(features['departureairport'])\n",
        "departuredate = features['departuredate'] = le.fit_transform(features['departuredate'])\n",
        "c = features['c'] = le.fit_transform(features['c'])\n",
        "print('features labelencoded')\n",
        "\n",
        "#hotencode data\n",
        "from sklearn.preprocessing import OneHotEncoder\n",
        "enc = OneHotEncoder()\n",
        "#userid = enc.fit_transform(features.userid.values.reshape(-1,1)).toarray()\n",
        "#bookingdate = enc.fit_transform(features.bookingdate.values.reshape(-1,1)).toarray()\n",
        "#price = enc.fit_transform(features.price.values.reshape(-1,1)).toarray()\n",
        "bookingsource = enc.fit_transform(features.bookingsource.values.reshape(-1,1)).toarray()\n",
        "#residence = enc.fit_transform(features.residence.values.reshape(-1,1)).toarray()\n",
        "#durationindays = enc.fit_transform(features.durationindays.values.reshape(-1,1)).toarray()\n",
        "paymenttype = enc.fit_transform(features.paymenttype.values.reshape(-1,1)).toarray()\n",
        "#participants = enc.fit_transform(features.participants.values.reshape(-1,1)).toarray()\n",
        "traveltype = enc.fit_transform(features.traveltype.values.reshape(-1,1)).toarray()\n",
        "hotelcity = enc.fit_transform(features.hotelcity.values.reshape(-1,1)).toarray()\n",
        "hotelregion = enc.fit_transform(features.hotelregion.values.reshape(-1,1)).toarray()\n",
        "hotelcountry = enc.fit_transform(features.hotelcountry.values.reshape(-1,1)).toarray()\n",
        "catering = enc.fit_transform(features.catering.values.reshape(-1,1)).toarray()\n",
        "departureairport = enc.fit_transform(features.departureairport.values.reshape(-1,1)).toarray()\n",
        "#departuredate = enc.fit_transform(features.departuredate.values.reshape(-1,1)).toarray()\n",
        "#c = enc.fit_transform(features.c.values.reshape(-1,1)).toarray()"
      ],
      "execution_count": 0,
      "outputs": []
    },
    {
      "metadata": {
        "id": "PyBWIImKNdk3",
        "colab_type": "code",
        "colab": {}
      },
      "cell_type": "code",
      "source": [
        "#imputer - missing values\n",
        "from sklearn.preprocessing import Imputer\n",
        "imputer = Imputer(missing_values = 'NaN', strategy = 'mean', axis = 0)\n",
        "imputer.fit(x)\n",
        "print('missing values imputed')"
      ],
      "execution_count": 0,
      "outputs": []
    },
    {
      "metadata": {
        "id": "wwxDPs1vhEqZ",
        "colab_type": "code",
        "colab": {}
      },
      "cell_type": "code",
      "source": [
        "#data split\n",
        "x = features.drop(['c'], axis = 1)\n",
        "y = features['c']\n",
        "x_train, x_test, y_train, y_test = cross_validation.train_test_split(x, y, test_size=0.3)\n",
        "print('data split')\n",
        "\n",
        "#feature scaling. StandardScaler is for standardization. MinMax Scaler is for normalization\n",
        "from sklearn.preprocessing import StandardScaler\n",
        "sc = StandardScaler()\n",
        "x_train = sc.fit_transform(x_train)\n",
        "x_test = sc.transform(x_test)\n",
        "print('features scaled')\n",
        "\n",
        "#below follow different models to potentially be applied in such kind of analysis"
      ],
      "execution_count": 0,
      "outputs": []
    },
    {
      "metadata": {
        "id": "VLFRYIekNisE",
        "colab_type": "code",
        "colab": {}
      },
      "cell_type": "code",
      "source": [
        "#applying PCA for feature selection\n",
        "from sklearn.decomposition import PCA\n",
        "pca = PCA()\n",
        "x_train = pca.fit_transform(x_train)\n",
        "x_test = pca.transform(x_test)\n",
        "explained_variance = pca.explained_variance_ratio_\n",
        "featurenames = list(x.columns)\n",
        "indices = np.argsort(explained_variance)[::-1]\n",
        "print(\"Variance Causation Ranking:\")\n",
        "for f in range(x.shape[1]):\n",
        "    print(\"%d. %s (%f)\" % (f + 1, featurenames[f], explained_variance[indices[f]]))\n",
        "print('PCA applied')"
      ],
      "execution_count": 0,
      "outputs": []
    },
    {
      "metadata": {
        "id": "-_6ZqqibNnwm",
        "colab_type": "code",
        "colab": {}
      },
      "cell_type": "code",
      "source": [
        "#k-fold Cross Validation\n",
        "from sklearn.model_selection import cross_val_score\n",
        "accuracies = cross_val_score(estimator = clf8, X = x_train, y = y_train, cv = 10)\n",
        "print(\"Accuracies Mean:\", accuracies.mean())\n",
        "print(\"Accuracies Std Deviation:\", accuracies.std())\n",
        "from sklearn.metrics import accuracy_score\n",
        "print(\"Accuracy score:\", accuracy_score(y_test, y_pred))"
      ],
      "execution_count": 0,
      "outputs": []
    },
    {
      "metadata": {
        "id": "YonIT3f8Nn5W",
        "colab_type": "code",
        "colab": {}
      },
      "cell_type": "code",
      "source": [
        "\n",
        "#GridSearchCV for hyperparameter tuning\n",
        "from sklearn.model_selection import GridSearchCV\n",
        "parameters = [{'presort': ['True', 'False'], 'max_leaf_nodes': [2,5,7,10], 'min_impurity_decrease': [0,3,5,10]}] \n",
        "grid_search = GridSearchCV(estimator = clf8, param_grid = parameters, scoring = 'accuracy', cv = 10, n_jobs = -1)\n",
        "grid_search = grid_search.fit(x_train, y_train)\n",
        "print(\"Best Grid CV Score:\", grid_search.best_score_)\n",
        "print(\"Best Grid CV Params:\", grid_search.best_params_)"
      ],
      "execution_count": 0,
      "outputs": []
    },
    {
      "metadata": {
        "id": "Kc5FgWsI3PMA",
        "colab_type": "code",
        "colab": {}
      },
      "cell_type": "code",
      "source": [
        "#Random Forest\n",
        "from sklearn.ensemble import ExtraTreesClassifier\n",
        "clf = ExtraTreesClassifier(n_estimators=500, random_state=0)\n",
        "clf = clf.fit(x_train, y_train)\n",
        "print('classifier fit')\n",
        "y_pred = clf.predict(x_test)\n",
        "from sklearn.metrics import accuracy_score\n",
        "acc = accuracy_score(y_test, y_pred)\n",
        "print('Accuracy Score Random Forest:', acc)\n",
        "from sklearn.metrics import confusion_matrix\n",
        "cm = confusion_matrix(y_test, y_pred)\n",
        "print(cm)\n",
        "from sklearn.metrics import roc_auc_score\n",
        "cap = roc_auc_score(y_test, y_pred, average='macro', sample_weight=None)\n",
        "print('AUC Score Random Forest:', cap)"
      ],
      "execution_count": 0,
      "outputs": []
    },
    {
      "metadata": {
        "id": "xECTKSIj6Cex",
        "colab_type": "code",
        "colab": {}
      },
      "cell_type": "code",
      "source": [
        "#Linear SVC\n",
        "from sklearn.svm import LinearSVC\n",
        "from sklearn.datasets import make_classification\n",
        "x_train, y_train = make_classification(n_features=13, random_state=0)\n",
        "clf9 = LinearSVC(random_state=0)\n",
        "clf9.fit(x_train, y_train)\n",
        "y_pred = clf9.predict(x_test)\n",
        "from sklearn.metrics import accuracy_score\n",
        "acc = accuracy_score(y_test, y_pred)\n",
        "print('Accuracy Score Linear SVC:', acc)\n",
        "from sklearn.metrics import confusion_matrix\n",
        "cm = confusion_matrix(y_test, y_pred)\n",
        "print(cm)\n",
        "from sklearn.metrics import roc_auc_score\n",
        "cap = roc_auc_score(y_test, y_pred, average='macro', sample_weight=None)\n",
        "print('AUC Score Linear SVC:', cap)"
      ],
      "execution_count": 0,
      "outputs": []
    },
    {
      "metadata": {
        "id": "1cxkIRuMu2St",
        "colab_type": "code",
        "colab": {}
      },
      "cell_type": "code",
      "source": [
        "#Kernel SVM - Polynomial\n",
        "from sklearn.svm import SVC\n",
        "clf2 = SVC(kernel = 'poly')\n",
        "clf2.fit(x_train, y_train)\n",
        "y_pred = clf2.predict(x_test)\n",
        "from sklearn.metrics import accuracy_score\n",
        "acc = accuracy_score(y_test, y_pred)\n",
        "print('Accuracy Score Kernel SVM - Polynomial:', acc)\n",
        "from sklearn.metrics import confusion_matrix\n",
        "cm = confusion_matrix(y_test, y_pred)\n",
        "print(cm)\n",
        "from sklearn.metrics import roc_auc_score\n",
        "cap = roc_auc_score(y_test, y_pred, average='macro', sample_weight=None)\n",
        "print('AUC Score Kernel SVM - Polynomial:', cap)"
      ],
      "execution_count": 0,
      "outputs": []
    },
    {
      "metadata": {
        "id": "j7qeBuXFvoz0",
        "colab_type": "code",
        "colab": {}
      },
      "cell_type": "code",
      "source": [
        "#Bernoulli Naive Bayes\n",
        "from sklearn.naive_bayes import BernoulliNB\n",
        "clf3 = BernoulliNB(fit_prior = 'True')\n",
        "clf3.fit(x_train, y_train)\n",
        "y_pred = clf3.predict(x_test)\n",
        "from sklearn.metrics import accuracy_score\n",
        "acc = accuracy_score(y_test, y_pred)\n",
        "print('Accuracy Score Bernoulli Naive Bayes:', acc)\n",
        "from sklearn.metrics import confusion_matrix\n",
        "cm = confusion_matrix(y_test, y_pred)\n",
        "print(cm)\n",
        "from sklearn.metrics import roc_auc_score\n",
        "cap = roc_auc_score(y_test, y_pred, average='macro', sample_weight=None)\n",
        "print('AUC Score Bernoulli Naive Bayes:', cap)"
      ],
      "execution_count": 0,
      "outputs": []
    },
    {
      "metadata": {
        "id": "lX6Tb_wzw81K",
        "colab_type": "code",
        "colab": {}
      },
      "cell_type": "code",
      "source": [
        "#Logistic Regression\n",
        "from sklearn.linear_model import LogisticRegression\n",
        "clf4 = LogisticRegression()\n",
        "clf4.fit(x_train, y_train)\n",
        "y_pred = clf4.predict(x_test)\n",
        "from sklearn.metrics import accuracy_score\n",
        "acc = accuracy_score(y_test, y_pred)\n",
        "print('Accuracy Score Logistic Regression:', acc)\n",
        "from sklearn.metrics import confusion_matrix\n",
        "cm = confusion_matrix(y_test, y_pred)\n",
        "print(cm)\n",
        "from sklearn.metrics import roc_auc_score\n",
        "cap = roc_auc_score(y_test, y_pred, average='macro', sample_weight=None)\n",
        "print('AUC Score Logistic Regression:', cap)"
      ],
      "execution_count": 0,
      "outputs": []
    },
    {
      "metadata": {
        "id": "9bZZJHE_xqQz",
        "colab_type": "code",
        "colab": {}
      },
      "cell_type": "code",
      "source": [
        "#K-Nearest Neighbors\n",
        "from sklearn.neighbors import KNeighborsClassifier\n",
        "clf5 = KNeighborsClassifier(n_neighbors=1)\n",
        "clf5.fit(x_train, y_train)\n",
        "y_pred = clf5.predict(x_test)\n",
        "from sklearn.metrics import accuracy_score\n",
        "acc = accuracy_score(y_test, y_pred)\n",
        "print('Accuracy Score K-Nearest Neighbors:', acc)\n",
        "from sklearn.metrics import confusion_matrix\n",
        "cm = confusion_matrix(y_test, y_pred)\n",
        "print(cm)\n",
        "from sklearn.metrics import roc_auc_score\n",
        "cap = roc_auc_score(y_test, y_pred, average='macro', sample_weight=None)\n",
        "print('AUC Score K-Nearest Neighbors:', cap)"
      ],
      "execution_count": 0,
      "outputs": []
    },
    {
      "metadata": {
        "id": "kabgPR74ycfy",
        "colab_type": "code",
        "colab": {}
      },
      "cell_type": "code",
      "source": [
        "#XGBoost\n",
        "from sklearn.ensemble import GradientBoostingClassifier\n",
        "clf6 = GradientBoostingClassifier (learning_rate = 0.01, n_estimators = 1000)\n",
        "clf6.fit(x_train, y_train)\n",
        "y_pred = clf6.predict(x_test)\n",
        "from sklearn.metrics import accuracy_score\n",
        "acc = accuracy_score(y_test, y_pred)\n",
        "print('Accuracy Score XGBoost:', acc)\n",
        "from sklearn.metrics import confusion_matrix\n",
        "cm = confusion_matrix(y_test, y_pred)\n",
        "print(cm)\n",
        "from sklearn.metrics import roc_auc_score\n",
        "cap = roc_auc_score(y_test, y_pred, average='macro', sample_weight=None)\n",
        "print('AUC Score XGBoost:', cap)"
      ],
      "execution_count": 0,
      "outputs": []
    },
    {
      "metadata": {
        "id": "xJzXkkx0zGhn",
        "colab_type": "code",
        "colab": {}
      },
      "cell_type": "code",
      "source": [
        "#Kernel SVM - RBF\n",
        "from sklearn.svm import SVC\n",
        "clf7 = SVC(kernel = 'rbf')\n",
        "clf7.fit(x_train, y_train)\n",
        "y_pred = clf7.predict(x_test)\n",
        "acc = accuracy_score(y_test, y_pred)\n",
        "print('Accuracy Score Kernel SVM - RBF:', acc)\n",
        "from sklearn.metrics import confusion_matrix\n",
        "cm = confusion_matrix(y_test, y_pred)\n",
        "print(cm)\n",
        "from sklearn.metrics import roc_auc_score\n",
        "cap = roc_auc_score(y_test, y_pred, average='macro', sample_weight=None)\n",
        "print('AUC Score Kernel SVM - RBF:', cap)"
      ],
      "execution_count": 0,
      "outputs": []
    },
    {
      "metadata": {
        "id": "44KV7Yy5dAOQ",
        "colab_type": "code",
        "colab": {}
      },
      "cell_type": "code",
      "source": [
        "#Decision Tree\n",
        "from sklearn import tree\n",
        "clf8 = tree.DecisionTreeClassifier(criterion = 'entropy', splitter = 'best', max_depth = 15, min_samples_split = 5, min_samples_leaf = 3, random_state = 0)\n",
        "clf8.fit(x_train, y_train)\n",
        "y_pred = clf8.predict(x_test)\n",
        "acc = accuracy_score(y_test, y_pred)\n",
        "print('Accuracy Score Decision Tree:', acc)\n",
        "from sklearn.metrics import confusion_matrix\n",
        "cm = confusion_matrix(y_test, y_pred)\n",
        "print(cm)\n",
        "from sklearn.metrics import roc_auc_score\n",
        "cap = roc_auc_score(y_test, y_pred, average='macro', sample_weight=None)\n",
        "print('AUC Score Decision Tree:', cap)"
      ],
      "execution_count": 0,
      "outputs": []
    },
    {
      "metadata": {
        "id": "bDJJe67KOQG2",
        "colab_type": "code",
        "colab": {}
      },
      "cell_type": "code",
      "source": [
        "#Neural Net - Option 1\n",
        "\n",
        "def denormalize(features,norm_data):\n",
        "    features = features[['c']].values.reshape(-1,1)\n",
        "    scl = MinMaxScaler()\n",
        "    a = scl.fit_transform(norm_data)\n",
        "    new = scl.inverse_transform(norm_data)\n",
        "    norm_data = norm_data.reshape(-1,1)\n",
        "def neural_net_model(X_data,input_dim):\n",
        "    W_1 = tf.Variable(tf.random_uniform([input_dim,10]))\n",
        "    b_1 = tf.Variable(tf.zeros([10]))\n",
        "    layer_1 = tf.add(tf.matmul(X_data,W_1), b_1)\n",
        "    layer_1 = tf.nn.relu(layer_1)\n",
        "    #W_2 = tf.Variable(tf.random_uniform([10,10]))\n",
        "    #b_2 = tf.Variable(tf.zeros([10]))\n",
        "    #layer_2 = tf.add(tf.matmul(layer_1,W_2), b_2)\n",
        "    #layer_2 = tf.nn.relu(layer_2)\n",
        "    W_O = tf.Variable(tf.random_uniform([10,1]))\n",
        "    b_O = tf.Variable(tf.zeros([1]))\n",
        "    output = tf.add(tf.matmul(layer_1,W_O), b_O)\n",
        "    return output\n",
        "print('functions setup')\n",
        "xs = tf.placeholder(\"float\")\n",
        "ys = tf.placeholder(\"float\")\n",
        "output = neural_net_model(xs,13)\n",
        "cost = tf.reduce_mean(tf.square(output-ys))\n",
        "train = tf.train.GradientDescentOptimizer(0.001).minimize(cost)\n",
        "print('model setup')\n",
        "with tf.Session() as sess:\n",
        "  sess.run(tf.global_variables_initializer())\n",
        "  saver = tf.train.Saver()\n",
        "  for i in range(20):\n",
        "    for j in range(x_train.shape[1]):\n",
        "     sess.run([cost,train],feed_dict = {xs:x_train[j,:].reshape(1,13), ys:y_train[j]})\n",
        "      #c_t.append(sess.run(cost, feed_dict = {xs:x_train,ys:y_train}))\n",
        "      #c_t.append(sess.run(cost, feed_dict = {xs:x_test,ys:y_test}))\n",
        "      #print('Epoch :',i,'Cost :',c_t[i])\n",
        "     pred = sess.run(output, feed_dict={xs:x_test})\n",
        "     pred = (pred <= 1)\n",
        "     #print('Cost :',sess.run(cost, feed_dict={xs:x_test,ys:y_test}))\n",
        "     #correct = tf.equal(tf.argmax(pred, 1), tf.argmax(y_test, 1))\n",
        "     #accuracy = tf.reduce_mean(tf.cast(correct, 'float'))\n",
        "     #print('Accuracy:', accuracy.eval({xs:x_train, ys:y_train}))\n",
        "print('session run')\n",
        "#y_test = scaler.inverse_transform(y_test)\n",
        "#pred = scaler.inverse_transform(pred)\n",
        "#y_test = denormalize(features_test,y_test)\n",
        "#pred = denormalize(features_test,pred)\n",
        "#print('variables retransformed')"
      ],
      "execution_count": 0,
      "outputs": []
    },
    {
      "metadata": {
        "id": "ADdm3GPmOQM_",
        "colab_type": "code",
        "colab": {}
      },
      "cell_type": "code",
      "source": [
        "#Neural Net - Option 2 with Keras\n",
        "\n",
        "# Importing the Keras libraries and packages\n",
        "import keras\n",
        "from keras.models import Sequential\n",
        "from keras.layers import Dense\n",
        "from keras.layers import Dropout\n",
        "from keras import losses\n",
        "from keras.wrappers.scikit_learn import KerasClassifier\n",
        "from sklearn.model_selection import StratifiedKFold\n",
        "from sklearn.model_selection import cross_val_score\n",
        "from sklearn.pipeline import Pipeline\n",
        "\n",
        "def create_baseline():\n",
        "    # create model\n",
        "    model = Sequential()\n",
        "    model.add(Dense(10, input_dim=11, kernel_initializer='normal', activation='relu'))\n",
        "    model.add(Dense(1, kernel_initializer='normal', activation='sigmoid'))\n",
        "    # Compile model. We use the the logarithmic loss function, and the Adam gradient optimizer.\n",
        "    model.compile(loss='binary_crossentropy', optimizer='adam', metrics=['accuracy'])\n",
        "# Evaluate model using standardized dataset. \n",
        "estimators = []\n",
        "estimators.append(('standardize', StandardScaler()))\n",
        "estimators.append(('mlp', KerasClassifier(build_fn=create_baseline, epochs=100, batch_size=5, verbose=0)))\n",
        "pipeline = Pipeline(estimators)\n",
        "kfold = StratifiedKFold(n_splits=10, shuffle=True)\n",
        "\n",
        "model = Sequential()\n",
        "model.add(Dense(10, input_dim=11, kernel_initializer='normal', activation='relu'))\n",
        "model.add(Dense(1, kernel_initializer='normal', activation='sigmoid'))\n",
        "# Compile model. We use the the logarithmic loss function, and the Adam gradient optimizer.\n",
        "model.compile(loss='binary_crossentropy', optimizer='adam', metrics=['accuracy'])\n",
        "y_pred = model.predict(x_test)\n",
        "from sklearn.metrics import classification_report, confusion_matrix\n",
        "print('Confusion Matrix')\n",
        "print(confusion_matrix(y_test, y_pred.astype(int)))\n",
        "print(classification_report(y_test, y_pred.astype(int)))\n",
        "results = cross_val_score(pipeline, y_pred.astype(int), y_test, cv=kfold)\n",
        "print(\"Results: %.2f%% (%.2f%%)\" % (results.mean()*100, results.std()*100))\n",
        "\n",
        "'''# Initialising the ANN\n",
        "classifier = Sequential()\n",
        "\n",
        "# Adding the input layer and the first hidden layer\n",
        "classifier.add(Dense(output_dim = 6, init = 'normal', activation = 'relu', input_dim = 11))\n",
        "\n",
        "# Adding the second hidden layer\n",
        "classifier.add(Dense(output_dim = 6, init = 'normal', activation = 'relu'))\n",
        "classifier.add(Dropout(0.2))\n",
        "\n",
        "# Adding the output layer\n",
        "classifier.add(Dense(output_dim = 1, init = 'normal', activation = 'relu'))\n",
        "\n",
        "# Compiling the ANN\n",
        "from keras import optimizers\n",
        "classifier.compile(optimizer='adam', loss = 'binary_crossentropy', metrics = ['accuracy'])\n",
        "\n",
        "# Fitting the ANN to the Training set\n",
        "from sklearn.utils import class_weight\n",
        "class_weights = class_weight.compute_class_weight('balanced',np.unique(y_train), y_train)\n",
        "classifier.fit(x_train, y_train, batch_size = 100, nb_epoch = 10, verbose=1, validation_split=0.5, class_weight= 'auto', shuffle = True)\n",
        "\n",
        "# Predicting the Test set results\n",
        "y_pred = classifier.predict(x_test)"
      ],
      "execution_count": 0,
      "outputs": []
    },
    {
      "metadata": {
        "id": "9B-kPRr6nDSG",
        "colab_type": "code",
        "outputId": "01d233dd-0761-4875-d979-19616d97486e",
        "colab": {
          "base_uri": "https://localhost:8080/",
          "height": 664
        }
      },
      "cell_type": "code",
      "source": [
        "#Further analysis\n",
        "\n",
        "#Decision Tree Feature Importances\n",
        "importances = clf8.feature_importances_\n",
        "featurenames = list(features.columns)\n",
        "std = np.std([tree.feature_importances_ for tree in clf8.estimators_], axis=0)\n",
        "indices = np.argsort(importances)[::-1]\n",
        "print(\"Feature ranking:\")\n",
        "for f in range(x.shape[1]):\n",
        "    print(\"%d. %s (%f)\" % (f + 1, featurenames[f], importances[indices[f]]))\n",
        "plt.figure()\n",
        "plt.title(\"Feature importances\")\n",
        "plt.bar(range(x.shape[1]), importances[indices],\n",
        "       color=\"r\", yerr=std[indices], align=\"center\")\n",
        "plt.xticks(range(x.shape[1]), featurenames, rotation = 90)\n",
        "plt.xlim([-1, x.shape[1]])\n",
        "plt.show()"
      ],
      "execution_count": 0,
      "outputs": [
        {
          "output_type": "stream",
          "text": [
            "Feature ranking:\n",
            "1. bookingdate (0.692099)\n",
            "2. price (0.177489)\n",
            "3. durationindays (0.074568)\n",
            "4. bookingsource (0.050500)\n",
            "5. paymenttype (0.005344)\n",
            "6. participants (0.000000)\n",
            "7. traveltype (0.000000)\n",
            "8. hotelcity (0.000000)\n",
            "9. hotelregion (0.000000)\n",
            "10. hotelcountry (0.000000)\n",
            "11. catering (0.000000)\n",
            "12. departureairport (0.000000)\n",
            "13. departuredate (0.000000)\n"
          ],
          "name": "stdout"
        },
        {
          "output_type": "display_data",
          "data": {
            "image/png": "[encoded data removed]",
            "text/plain": [
              "<matplotlib.figure.Figure at 0x7f2a2eaa6438>"
            ]
          },
          "metadata": {
            "tags": []
          }
        }
      ]
    },
    {
      "metadata": {
        "id": "u6k5kQPfnI-X",
        "colab_type": "code",
        "outputId": "0f9ac332-213d-4e44-fb05-c14743b3a8e3",
        "colab": {
          "base_uri": "https://localhost:8080/",
          "height": 34
        }
      },
      "cell_type": "code",
      "source": [
        "#Plotting Decision Tree and Saving to GDrive\n",
        "from sklearn.tree import export_graphviz\n",
        "dot_data = StringIO()\n",
        "feature_names = list(x.columns)\n",
        "tree.export_graphviz(clf8, out_file=dot_data, \n",
        "                             max_depth= 7, class_names= None,\n",
        "                             label=None, filled=False, \n",
        "                             leaves_parallel=False, impurity=False, \n",
        "                             node_ids=False, proportion=True, rotate=True, \n",
        "                             rounded= True, special_characters=True, feature_names = feature_names)\n",
        "graph = pydotplus.graphviz.graph_from_dot_data(dot_data.getvalue())\n",
        "Image(graph.create_png())\n",
        "graph.write_png('hdc_clv_new-tree.png')\n",
        "uploaded = drive.CreateFile({'title': 'hdc_clv_new-tree.png'})\n",
        "uploaded.SetContentFile('hdc_clv_new-tree.png')\n",
        "uploaded.Upload()\n",
        "print('Uploaded file with ID {}'.format(uploaded.get('id')))"
      ],
      "execution_count": 0,
      "outputs": [
        {
          "output_type": "stream",
          "text": [
            "Uploaded file with ID 1d3k3nZulU7QYUIaVy4p18AZTMhh8BFxp\n"
          ],
          "name": "stdout"
        }
      ]
    }
  ]
}